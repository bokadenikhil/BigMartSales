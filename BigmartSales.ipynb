{
  "nbformat": 4,
  "nbformat_minor": 0,
  "metadata": {
    "colab": {
      "name": "BigmartSales.ipynb",
      "provenance": [],
      "collapsed_sections": []
    },
    "kernelspec": {
      "name": "python3",
      "display_name": "Python 3"
    }
  },
  "cells": [
    {
      "cell_type": "markdown",
      "metadata": {
        "id": "w_8ZZSvhSe4K"
      },
      "source": [
        "# BigmartSales\n",
        "\n",
        "\n",
        "#### Assumptions\n",
        "* Based on how much fat present in product, people purchase that item.So assumption is Low fat product sales most.\n",
        "* Item which is mostly useful sales most.\n",
        "* Item which have low cost, people usually buyes most and in large number.\n",
        "* Old the outlet more the customer, so sales also becomes high.\n",
        "* Sales also depends on location of outlet. If outlet is in city then more customers compare to outlet in rural area.\n",
        "* Bigger the outlet size, bigger the sales."
      ]
    },
    {
      "cell_type": "markdown",
      "metadata": {
        "id": "cTInoNmmTtiN"
      },
      "source": [
        "### Importing libraries"
      ]
    },
    {
      "cell_type": "code",
      "metadata": {
        "id": "mIJsv3fPRT7n"
      },
      "source": [
        "import pandas as pd\n",
        "import numpy as np\n",
        "import matplotlib.pyplot as plt\n",
        "import seaborn as sns\n",
        "\n",
        "\n",
        "from sklearn.preprocessing import LabelEncoder\n",
        "from sklearn.metrics import mean_squared_error\n",
        "from sklearn.model_selection import cross_val_score\n",
        "from sklearn.model_selection import RepeatedKFold\n",
        "from sklearn.preprocessing import MinMaxScaler"
      ],
      "execution_count": 1,
      "outputs": []
    },
    {
      "cell_type": "markdown",
      "metadata": {
        "id": "O6Pznxg2Sk7B"
      },
      "source": [
        "## Data"
      ]
    },
    {
      "cell_type": "code",
      "metadata": {
        "id": "BpIl9sgASkCY",
        "outputId": "df0af8c8-3559-47a0-b6a5-4c708148cb21",
        "colab": {
          "base_uri": "https://localhost:8080/",
          "height": 309
        }
      },
      "source": [
        "train = pd.read_csv('drive/My Drive/Colab Notebooks/BigmartSales/train.csv')\n",
        "test = pd.read_csv('drive/My Drive/Colab Notebooks/BigmartSales/test.csv')\n",
        "\n",
        "train.head()"
      ],
      "execution_count": 2,
      "outputs": [
        {
          "output_type": "execute_result",
          "data": {
            "text/html": [
              "<div>\n",
              "<style scoped>\n",
              "    .dataframe tbody tr th:only-of-type {\n",
              "        vertical-align: middle;\n",
              "    }\n",
              "\n",
              "    .dataframe tbody tr th {\n",
              "        vertical-align: top;\n",
              "    }\n",
              "\n",
              "    .dataframe thead th {\n",
              "        text-align: right;\n",
              "    }\n",
              "</style>\n",
              "<table border=\"1\" class=\"dataframe\">\n",
              "  <thead>\n",
              "    <tr style=\"text-align: right;\">\n",
              "      <th></th>\n",
              "      <th>Item_Identifier</th>\n",
              "      <th>Item_Weight</th>\n",
              "      <th>Item_Fat_Content</th>\n",
              "      <th>Item_Visibility</th>\n",
              "      <th>Item_Type</th>\n",
              "      <th>Item_MRP</th>\n",
              "      <th>Outlet_Identifier</th>\n",
              "      <th>Outlet_Establishment_Year</th>\n",
              "      <th>Outlet_Size</th>\n",
              "      <th>Outlet_Location_Type</th>\n",
              "      <th>Outlet_Type</th>\n",
              "      <th>Item_Outlet_Sales</th>\n",
              "    </tr>\n",
              "  </thead>\n",
              "  <tbody>\n",
              "    <tr>\n",
              "      <th>0</th>\n",
              "      <td>FDA15</td>\n",
              "      <td>9.30</td>\n",
              "      <td>Low Fat</td>\n",
              "      <td>0.016047</td>\n",
              "      <td>Dairy</td>\n",
              "      <td>249.8092</td>\n",
              "      <td>OUT049</td>\n",
              "      <td>1999</td>\n",
              "      <td>Medium</td>\n",
              "      <td>Tier 1</td>\n",
              "      <td>Supermarket Type1</td>\n",
              "      <td>3735.1380</td>\n",
              "    </tr>\n",
              "    <tr>\n",
              "      <th>1</th>\n",
              "      <td>DRC01</td>\n",
              "      <td>5.92</td>\n",
              "      <td>Regular</td>\n",
              "      <td>0.019278</td>\n",
              "      <td>Soft Drinks</td>\n",
              "      <td>48.2692</td>\n",
              "      <td>OUT018</td>\n",
              "      <td>2009</td>\n",
              "      <td>Medium</td>\n",
              "      <td>Tier 3</td>\n",
              "      <td>Supermarket Type2</td>\n",
              "      <td>443.4228</td>\n",
              "    </tr>\n",
              "    <tr>\n",
              "      <th>2</th>\n",
              "      <td>FDN15</td>\n",
              "      <td>17.50</td>\n",
              "      <td>Low Fat</td>\n",
              "      <td>0.016760</td>\n",
              "      <td>Meat</td>\n",
              "      <td>141.6180</td>\n",
              "      <td>OUT049</td>\n",
              "      <td>1999</td>\n",
              "      <td>Medium</td>\n",
              "      <td>Tier 1</td>\n",
              "      <td>Supermarket Type1</td>\n",
              "      <td>2097.2700</td>\n",
              "    </tr>\n",
              "    <tr>\n",
              "      <th>3</th>\n",
              "      <td>FDX07</td>\n",
              "      <td>19.20</td>\n",
              "      <td>Regular</td>\n",
              "      <td>0.000000</td>\n",
              "      <td>Fruits and Vegetables</td>\n",
              "      <td>182.0950</td>\n",
              "      <td>OUT010</td>\n",
              "      <td>1998</td>\n",
              "      <td>NaN</td>\n",
              "      <td>Tier 3</td>\n",
              "      <td>Grocery Store</td>\n",
              "      <td>732.3800</td>\n",
              "    </tr>\n",
              "    <tr>\n",
              "      <th>4</th>\n",
              "      <td>NCD19</td>\n",
              "      <td>8.93</td>\n",
              "      <td>Low Fat</td>\n",
              "      <td>0.000000</td>\n",
              "      <td>Household</td>\n",
              "      <td>53.8614</td>\n",
              "      <td>OUT013</td>\n",
              "      <td>1987</td>\n",
              "      <td>High</td>\n",
              "      <td>Tier 3</td>\n",
              "      <td>Supermarket Type1</td>\n",
              "      <td>994.7052</td>\n",
              "    </tr>\n",
              "  </tbody>\n",
              "</table>\n",
              "</div>"
            ],
            "text/plain": [
              "  Item_Identifier  Item_Weight  ...        Outlet_Type  Item_Outlet_Sales\n",
              "0           FDA15         9.30  ...  Supermarket Type1          3735.1380\n",
              "1           DRC01         5.92  ...  Supermarket Type2           443.4228\n",
              "2           FDN15        17.50  ...  Supermarket Type1          2097.2700\n",
              "3           FDX07        19.20  ...      Grocery Store           732.3800\n",
              "4           NCD19         8.93  ...  Supermarket Type1           994.7052\n",
              "\n",
              "[5 rows x 12 columns]"
            ]
          },
          "metadata": {
            "tags": []
          },
          "execution_count": 2
        }
      ]
    },
    {
      "cell_type": "code",
      "metadata": {
        "id": "sleSbe3KTev2",
        "outputId": "1d16d36b-96ec-46eb-a26a-321cfd0f5877",
        "colab": {
          "base_uri": "https://localhost:8080/",
          "height": 292
        }
      },
      "source": [
        "test.head()"
      ],
      "execution_count": 3,
      "outputs": [
        {
          "output_type": "execute_result",
          "data": {
            "text/html": [
              "<div>\n",
              "<style scoped>\n",
              "    .dataframe tbody tr th:only-of-type {\n",
              "        vertical-align: middle;\n",
              "    }\n",
              "\n",
              "    .dataframe tbody tr th {\n",
              "        vertical-align: top;\n",
              "    }\n",
              "\n",
              "    .dataframe thead th {\n",
              "        text-align: right;\n",
              "    }\n",
              "</style>\n",
              "<table border=\"1\" class=\"dataframe\">\n",
              "  <thead>\n",
              "    <tr style=\"text-align: right;\">\n",
              "      <th></th>\n",
              "      <th>Item_Identifier</th>\n",
              "      <th>Item_Weight</th>\n",
              "      <th>Item_Fat_Content</th>\n",
              "      <th>Item_Visibility</th>\n",
              "      <th>Item_Type</th>\n",
              "      <th>Item_MRP</th>\n",
              "      <th>Outlet_Identifier</th>\n",
              "      <th>Outlet_Establishment_Year</th>\n",
              "      <th>Outlet_Size</th>\n",
              "      <th>Outlet_Location_Type</th>\n",
              "      <th>Outlet_Type</th>\n",
              "    </tr>\n",
              "  </thead>\n",
              "  <tbody>\n",
              "    <tr>\n",
              "      <th>0</th>\n",
              "      <td>FDW58</td>\n",
              "      <td>20.750</td>\n",
              "      <td>Low Fat</td>\n",
              "      <td>0.007565</td>\n",
              "      <td>Snack Foods</td>\n",
              "      <td>107.8622</td>\n",
              "      <td>OUT049</td>\n",
              "      <td>1999</td>\n",
              "      <td>Medium</td>\n",
              "      <td>Tier 1</td>\n",
              "      <td>Supermarket Type1</td>\n",
              "    </tr>\n",
              "    <tr>\n",
              "      <th>1</th>\n",
              "      <td>FDW14</td>\n",
              "      <td>8.300</td>\n",
              "      <td>reg</td>\n",
              "      <td>0.038428</td>\n",
              "      <td>Dairy</td>\n",
              "      <td>87.3198</td>\n",
              "      <td>OUT017</td>\n",
              "      <td>2007</td>\n",
              "      <td>NaN</td>\n",
              "      <td>Tier 2</td>\n",
              "      <td>Supermarket Type1</td>\n",
              "    </tr>\n",
              "    <tr>\n",
              "      <th>2</th>\n",
              "      <td>NCN55</td>\n",
              "      <td>14.600</td>\n",
              "      <td>Low Fat</td>\n",
              "      <td>0.099575</td>\n",
              "      <td>Others</td>\n",
              "      <td>241.7538</td>\n",
              "      <td>OUT010</td>\n",
              "      <td>1998</td>\n",
              "      <td>NaN</td>\n",
              "      <td>Tier 3</td>\n",
              "      <td>Grocery Store</td>\n",
              "    </tr>\n",
              "    <tr>\n",
              "      <th>3</th>\n",
              "      <td>FDQ58</td>\n",
              "      <td>7.315</td>\n",
              "      <td>Low Fat</td>\n",
              "      <td>0.015388</td>\n",
              "      <td>Snack Foods</td>\n",
              "      <td>155.0340</td>\n",
              "      <td>OUT017</td>\n",
              "      <td>2007</td>\n",
              "      <td>NaN</td>\n",
              "      <td>Tier 2</td>\n",
              "      <td>Supermarket Type1</td>\n",
              "    </tr>\n",
              "    <tr>\n",
              "      <th>4</th>\n",
              "      <td>FDY38</td>\n",
              "      <td>NaN</td>\n",
              "      <td>Regular</td>\n",
              "      <td>0.118599</td>\n",
              "      <td>Dairy</td>\n",
              "      <td>234.2300</td>\n",
              "      <td>OUT027</td>\n",
              "      <td>1985</td>\n",
              "      <td>Medium</td>\n",
              "      <td>Tier 3</td>\n",
              "      <td>Supermarket Type3</td>\n",
              "    </tr>\n",
              "  </tbody>\n",
              "</table>\n",
              "</div>"
            ],
            "text/plain": [
              "  Item_Identifier  Item_Weight  ... Outlet_Location_Type        Outlet_Type\n",
              "0           FDW58       20.750  ...               Tier 1  Supermarket Type1\n",
              "1           FDW14        8.300  ...               Tier 2  Supermarket Type1\n",
              "2           NCN55       14.600  ...               Tier 3      Grocery Store\n",
              "3           FDQ58        7.315  ...               Tier 2  Supermarket Type1\n",
              "4           FDY38          NaN  ...               Tier 3  Supermarket Type3\n",
              "\n",
              "[5 rows x 11 columns]"
            ]
          },
          "metadata": {
            "tags": []
          },
          "execution_count": 3
        }
      ]
    },
    {
      "cell_type": "code",
      "metadata": {
        "id": "gJlKNd_vTftI"
      },
      "source": [
        "train.set_index(['Item_Identifier','Outlet_Identifier'],inplace=True)\n",
        "\n",
        "item_identifier = test['Item_Identifier']\n",
        "outlet_identifier = test['Outlet_Identifier']\n",
        "\n",
        "test.set_index(['Item_Identifier','Outlet_Identifier'],inplace=True)"
      ],
      "execution_count": 4,
      "outputs": []
    },
    {
      "cell_type": "code",
      "metadata": {
        "id": "_UfGALqsCp3M",
        "outputId": "f691d137-4e98-4946-f2d3-d3e3c5532634",
        "colab": {
          "base_uri": "https://localhost:8080/",
          "height": 340
        }
      },
      "source": [
        "train.head()"
      ],
      "execution_count": 5,
      "outputs": [
        {
          "output_type": "execute_result",
          "data": {
            "text/html": [
              "<div>\n",
              "<style scoped>\n",
              "    .dataframe tbody tr th:only-of-type {\n",
              "        vertical-align: middle;\n",
              "    }\n",
              "\n",
              "    .dataframe tbody tr th {\n",
              "        vertical-align: top;\n",
              "    }\n",
              "\n",
              "    .dataframe thead th {\n",
              "        text-align: right;\n",
              "    }\n",
              "</style>\n",
              "<table border=\"1\" class=\"dataframe\">\n",
              "  <thead>\n",
              "    <tr style=\"text-align: right;\">\n",
              "      <th></th>\n",
              "      <th></th>\n",
              "      <th>Item_Weight</th>\n",
              "      <th>Item_Fat_Content</th>\n",
              "      <th>Item_Visibility</th>\n",
              "      <th>Item_Type</th>\n",
              "      <th>Item_MRP</th>\n",
              "      <th>Outlet_Establishment_Year</th>\n",
              "      <th>Outlet_Size</th>\n",
              "      <th>Outlet_Location_Type</th>\n",
              "      <th>Outlet_Type</th>\n",
              "      <th>Item_Outlet_Sales</th>\n",
              "    </tr>\n",
              "    <tr>\n",
              "      <th>Item_Identifier</th>\n",
              "      <th>Outlet_Identifier</th>\n",
              "      <th></th>\n",
              "      <th></th>\n",
              "      <th></th>\n",
              "      <th></th>\n",
              "      <th></th>\n",
              "      <th></th>\n",
              "      <th></th>\n",
              "      <th></th>\n",
              "      <th></th>\n",
              "      <th></th>\n",
              "    </tr>\n",
              "  </thead>\n",
              "  <tbody>\n",
              "    <tr>\n",
              "      <th>FDA15</th>\n",
              "      <th>OUT049</th>\n",
              "      <td>9.30</td>\n",
              "      <td>Low Fat</td>\n",
              "      <td>0.016047</td>\n",
              "      <td>Dairy</td>\n",
              "      <td>249.8092</td>\n",
              "      <td>1999</td>\n",
              "      <td>Medium</td>\n",
              "      <td>Tier 1</td>\n",
              "      <td>Supermarket Type1</td>\n",
              "      <td>3735.1380</td>\n",
              "    </tr>\n",
              "    <tr>\n",
              "      <th>DRC01</th>\n",
              "      <th>OUT018</th>\n",
              "      <td>5.92</td>\n",
              "      <td>Regular</td>\n",
              "      <td>0.019278</td>\n",
              "      <td>Soft Drinks</td>\n",
              "      <td>48.2692</td>\n",
              "      <td>2009</td>\n",
              "      <td>Medium</td>\n",
              "      <td>Tier 3</td>\n",
              "      <td>Supermarket Type2</td>\n",
              "      <td>443.4228</td>\n",
              "    </tr>\n",
              "    <tr>\n",
              "      <th>FDN15</th>\n",
              "      <th>OUT049</th>\n",
              "      <td>17.50</td>\n",
              "      <td>Low Fat</td>\n",
              "      <td>0.016760</td>\n",
              "      <td>Meat</td>\n",
              "      <td>141.6180</td>\n",
              "      <td>1999</td>\n",
              "      <td>Medium</td>\n",
              "      <td>Tier 1</td>\n",
              "      <td>Supermarket Type1</td>\n",
              "      <td>2097.2700</td>\n",
              "    </tr>\n",
              "    <tr>\n",
              "      <th>FDX07</th>\n",
              "      <th>OUT010</th>\n",
              "      <td>19.20</td>\n",
              "      <td>Regular</td>\n",
              "      <td>0.000000</td>\n",
              "      <td>Fruits and Vegetables</td>\n",
              "      <td>182.0950</td>\n",
              "      <td>1998</td>\n",
              "      <td>NaN</td>\n",
              "      <td>Tier 3</td>\n",
              "      <td>Grocery Store</td>\n",
              "      <td>732.3800</td>\n",
              "    </tr>\n",
              "    <tr>\n",
              "      <th>NCD19</th>\n",
              "      <th>OUT013</th>\n",
              "      <td>8.93</td>\n",
              "      <td>Low Fat</td>\n",
              "      <td>0.000000</td>\n",
              "      <td>Household</td>\n",
              "      <td>53.8614</td>\n",
              "      <td>1987</td>\n",
              "      <td>High</td>\n",
              "      <td>Tier 3</td>\n",
              "      <td>Supermarket Type1</td>\n",
              "      <td>994.7052</td>\n",
              "    </tr>\n",
              "  </tbody>\n",
              "</table>\n",
              "</div>"
            ],
            "text/plain": [
              "                                   Item_Weight  ... Item_Outlet_Sales\n",
              "Item_Identifier Outlet_Identifier               ...                  \n",
              "FDA15           OUT049                    9.30  ...         3735.1380\n",
              "DRC01           OUT018                    5.92  ...          443.4228\n",
              "FDN15           OUT049                   17.50  ...         2097.2700\n",
              "FDX07           OUT010                   19.20  ...          732.3800\n",
              "NCD19           OUT013                    8.93  ...          994.7052\n",
              "\n",
              "[5 rows x 10 columns]"
            ]
          },
          "metadata": {
            "tags": []
          },
          "execution_count": 5
        }
      ]
    },
    {
      "cell_type": "markdown",
      "metadata": {
        "id": "SsfEccgGZZvd"
      },
      "source": [
        "### Handing Nan Values"
      ]
    },
    {
      "cell_type": "code",
      "metadata": {
        "id": "9zijudkUZde4",
        "outputId": "7e8b5089-4bbc-4dd7-c7cb-a5ed1f941bfe",
        "colab": {
          "base_uri": "https://localhost:8080/",
          "height": 204
        }
      },
      "source": [
        "train.isna().sum()"
      ],
      "execution_count": 6,
      "outputs": [
        {
          "output_type": "execute_result",
          "data": {
            "text/plain": [
              "Item_Weight                  1463\n",
              "Item_Fat_Content                0\n",
              "Item_Visibility                 0\n",
              "Item_Type                       0\n",
              "Item_MRP                        0\n",
              "Outlet_Establishment_Year       0\n",
              "Outlet_Size                  2410\n",
              "Outlet_Location_Type            0\n",
              "Outlet_Type                     0\n",
              "Item_Outlet_Sales               0\n",
              "dtype: int64"
            ]
          },
          "metadata": {
            "tags": []
          },
          "execution_count": 6
        }
      ]
    },
    {
      "cell_type": "code",
      "metadata": {
        "id": "_pB3PtcTZnzV",
        "outputId": "bdb5500d-ede3-4d27-eb85-80af6380752a",
        "colab": {
          "base_uri": "https://localhost:8080/",
          "height": 187
        }
      },
      "source": [
        "test.isna().sum()"
      ],
      "execution_count": 7,
      "outputs": [
        {
          "output_type": "execute_result",
          "data": {
            "text/plain": [
              "Item_Weight                   976\n",
              "Item_Fat_Content                0\n",
              "Item_Visibility                 0\n",
              "Item_Type                       0\n",
              "Item_MRP                        0\n",
              "Outlet_Establishment_Year       0\n",
              "Outlet_Size                  1606\n",
              "Outlet_Location_Type            0\n",
              "Outlet_Type                     0\n",
              "dtype: int64"
            ]
          },
          "metadata": {
            "tags": []
          },
          "execution_count": 7
        }
      ]
    },
    {
      "cell_type": "code",
      "metadata": {
        "id": "C53shaVkZr7B",
        "outputId": "3f6e1c32-9418-4051-f9a6-5887a8293113",
        "colab": {
          "base_uri": "https://localhost:8080/",
          "height": 34
        }
      },
      "source": [
        "train['Item_Weight'].dtypes"
      ],
      "execution_count": 8,
      "outputs": [
        {
          "output_type": "execute_result",
          "data": {
            "text/plain": [
              "dtype('float64')"
            ]
          },
          "metadata": {
            "tags": []
          },
          "execution_count": 8
        }
      ]
    },
    {
      "cell_type": "markdown",
      "metadata": {
        "id": "nNzaSgdhZ3zg"
      },
      "source": [
        "We can't simply put 0 in Nan values as weight cant be zero. We can impute mean value of all the weights"
      ]
    },
    {
      "cell_type": "code",
      "metadata": {
        "id": "kQiFyDLYafKn"
      },
      "source": [
        "mean = train.Item_Weight.mean()\n",
        "train['Item_Weight'] = train['Item_Weight'].fillna(mean)\n",
        "test['Item_Weight'] = test['Item_Weight'].fillna(mean)"
      ],
      "execution_count": 9,
      "outputs": []
    },
    {
      "cell_type": "code",
      "metadata": {
        "id": "yJYO-8fQbZmU",
        "outputId": "eb67231a-60f1-4aed-fb55-1f72e2cb3b4a",
        "colab": {
          "base_uri": "https://localhost:8080/",
          "height": 102
        }
      },
      "source": [
        "print(train.Outlet_Size.value_counts())\n",
        "print(train.Outlet_Size.unique())"
      ],
      "execution_count": 10,
      "outputs": [
        {
          "output_type": "stream",
          "text": [
            "Medium    2793\n",
            "Small     2388\n",
            "High       932\n",
            "Name: Outlet_Size, dtype: int64\n",
            "['Medium' nan 'High' 'Small']\n"
          ],
          "name": "stdout"
        }
      ]
    },
    {
      "cell_type": "markdown",
      "metadata": {
        "id": "7xoFMa2kcIp0"
      },
      "source": [
        "In outlet size case, we cant simply put mode of the column as a nan value. Each size is important in predicting purchase. So we create another variable as 'Local' so we dont need to remove any nan values."
      ]
    },
    {
      "cell_type": "code",
      "metadata": {
        "id": "NuVS3kencDxP"
      },
      "source": [
        "train['Outlet_Size'] = train['Outlet_Size'].fillna('Local')\n",
        "test['Outlet_Size'] = test['Outlet_Size'].fillna('Local')"
      ],
      "execution_count": 11,
      "outputs": []
    },
    {
      "cell_type": "code",
      "metadata": {
        "id": "zGXCQPV_cvfR",
        "outputId": "3b1001a7-4ebb-42cc-e5d1-bc85f2f35363",
        "colab": {
          "base_uri": "https://localhost:8080/",
          "height": 102
        }
      },
      "source": [
        "train['Outlet_Size'].value_counts()"
      ],
      "execution_count": null,
      "outputs": [
        {
          "output_type": "execute_result",
          "data": {
            "text/plain": [
              "Medium    2793\n",
              "Local     2410\n",
              "Small     2388\n",
              "High       932\n",
              "Name: Outlet_Size, dtype: int64"
            ]
          },
          "metadata": {
            "tags": []
          },
          "execution_count": 88
        }
      ]
    },
    {
      "cell_type": "markdown",
      "metadata": {
        "id": "Dy6fFy_AZRpW"
      },
      "source": [
        "\n",
        "* Before visualization we need to handle Fat content column"
      ]
    },
    {
      "cell_type": "code",
      "metadata": {
        "id": "y4Iu1mCndT_a"
      },
      "source": [
        "replace = {'low fat':'Low Fat',\n",
        "           'LF':'Low Fat',\n",
        "           'reg':'Regular'}\n",
        "\n",
        "train.Item_Fat_Content = train.Item_Fat_Content.replace(to_replace=replace)\n",
        "test.Item_Fat_Content = test.Item_Fat_Content.replace(to_replace=replace)"
      ],
      "execution_count": 12,
      "outputs": []
    },
    {
      "cell_type": "code",
      "metadata": {
        "id": "cd3QzGXmdyhF",
        "outputId": "86b2425a-ed85-4148-b9f4-a53ee0425666",
        "colab": {
          "base_uri": "https://localhost:8080/",
          "height": 34
        }
      },
      "source": [
        "train.Item_Fat_Content.unique()"
      ],
      "execution_count": 14,
      "outputs": [
        {
          "output_type": "execute_result",
          "data": {
            "text/plain": [
              "array(['Low Fat', 'Regular'], dtype=object)"
            ]
          },
          "metadata": {
            "tags": []
          },
          "execution_count": 14
        }
      ]
    },
    {
      "cell_type": "code",
      "metadata": {
        "id": "WTmUAbq1d11u",
        "outputId": "8223b15d-b4c4-4999-8664-d74ad18fb202",
        "colab": {
          "base_uri": "https://localhost:8080/",
          "height": 68
        }
      },
      "source": [
        "train.Item_Fat_Content.value_counts()"
      ],
      "execution_count": 13,
      "outputs": [
        {
          "output_type": "execute_result",
          "data": {
            "text/plain": [
              "Low Fat    5517\n",
              "Regular    3006\n",
              "Name: Item_Fat_Content, dtype: int64"
            ]
          },
          "metadata": {
            "tags": []
          },
          "execution_count": 13
        }
      ]
    },
    {
      "cell_type": "markdown",
      "metadata": {
        "id": "DGU-0TZheDmQ"
      },
      "source": [
        "### Visualization"
      ]
    },
    {
      "cell_type": "code",
      "metadata": {
        "id": "noI9GzB2enKF",
        "outputId": "f1440803-d170-4903-ffd9-a15f44e7082c",
        "colab": {
          "base_uri": "https://localhost:8080/",
          "height": 85
        }
      },
      "source": [
        "train.columns"
      ],
      "execution_count": 15,
      "outputs": [
        {
          "output_type": "execute_result",
          "data": {
            "text/plain": [
              "Index(['Item_Weight', 'Item_Fat_Content', 'Item_Visibility', 'Item_Type',\n",
              "       'Item_MRP', 'Outlet_Establishment_Year', 'Outlet_Size',\n",
              "       'Outlet_Location_Type', 'Outlet_Type', 'Item_Outlet_Sales'],\n",
              "      dtype='object')"
            ]
          },
          "metadata": {
            "tags": []
          },
          "execution_count": 15
        }
      ]
    },
    {
      "cell_type": "code",
      "metadata": {
        "id": "S6R849GmYMOV",
        "outputId": "b90a4484-15f2-4c51-93a0-9000c64c5a54",
        "colab": {
          "base_uri": "https://localhost:8080/",
          "height": 458
        }
      },
      "source": [
        "Fatcontent = \\\n",
        "train.pivot_table(index='Item_Fat_Content', values=\"Item_Outlet_Sales\", aggfunc=np.mean)\n",
        "\n",
        "Fatcontent.plot(kind='bar', color='cyan',figsize=(12,7))\n",
        "plt.xlabel(\"Item Fat Content\")\n",
        "plt.ylabel(\"Sales\")\n",
        "plt.title(\"Fat and Sales Analysis\")\n",
        "plt.xticks(rotation=0)\n",
        "plt.show()"
      ],
      "execution_count": null,
      "outputs": [
        {
          "output_type": "display_data",
          "data": {
            "image/png": "[encoded data removed]",
            "text/plain": [
              "<Figure size 864x504 with 1 Axes>"
            ]
          },
          "metadata": {
            "tags": [],
            "needs_background": "light"
          }
        }
      ]
    },
    {
      "cell_type": "code",
      "metadata": {
        "id": "Hd5TcPPReu9i",
        "outputId": "d8ed87f7-f8c5-4c7a-fafe-5de0f49b2c93",
        "colab": {
          "base_uri": "https://localhost:8080/",
          "height": 458
        }
      },
      "source": [
        "Outlet_Type_pivot = \\\n",
        "train.pivot_table(index='Outlet_Type', values=\"Item_Outlet_Sales\", aggfunc=np.sum)\n",
        "\n",
        "Outlet_Type_pivot .plot(kind='bar', color='cyan',figsize=(12,7))\n",
        "plt.xlabel(\"outlet type\")\n",
        "plt.ylabel(\"Sales\")\n",
        "plt.title(\"Outlet Type and Sales Analysis\")\n",
        "plt.xticks(rotation=0)\n",
        "plt.show()"
      ],
      "execution_count": null,
      "outputs": [
        {
          "output_type": "display_data",
          "data": {
            "image/png": "[encoded data removed]",
            "text/plain": [
              "<Figure size 864x504 with 1 Axes>"
            ]
          },
          "metadata": {
            "tags": [],
            "needs_background": "light"
          }
        }
      ]
    },
    {
      "cell_type": "code",
      "metadata": {
        "id": "kjrRVRjlJtY-",
        "outputId": "689af0bd-f379-400c-e619-41e646cba818",
        "colab": {
          "base_uri": "https://localhost:8080/",
          "height": 458
        }
      },
      "source": [
        "EY = \\\n",
        "train.pivot_table(index='Outlet_Establishment_Year', values=\"Item_Outlet_Sales\", aggfunc=np.mean)\n",
        "\n",
        "EY.plot(kind='bar', color='red',figsize=(12,7))\n",
        "plt.xlabel(\"Establishment Year\")\n",
        "plt.ylabel(\"Sales\")\n",
        "plt.title(\"Year and Sales Analysis\")\n",
        "plt.xticks(rotation=0)\n",
        "plt.show()"
      ],
      "execution_count": null,
      "outputs": [
        {
          "output_type": "display_data",
          "data": {
            "image/png": "[encoded data removed]",
            "text/plain": [
              "<Figure size 864x504 with 1 Axes>"
            ]
          },
          "metadata": {
            "tags": [],
            "needs_background": "light"
          }
        }
      ]
    },
    {
      "cell_type": "code",
      "metadata": {
        "id": "-A6YV3V0LSqO",
        "outputId": "225c6b3f-9e04-4c21-ba27-52e1cd2ad963",
        "colab": {
          "base_uri": "https://localhost:8080/",
          "height": 459
        }
      },
      "source": [
        "Size = \\\n",
        "train.pivot_table(index='Outlet_Size', values=\"Item_Outlet_Sales\", aggfunc=np.mean)\n",
        "\n",
        "Size.plot(kind='bar', color='cyan',figsize=(12,7))\n",
        "plt.xlabel(\"Outlet_Size\")\n",
        "plt.ylabel(\"Sales\")\n",
        "plt.title(\"Outlet_size and Sales Analysis\")\n",
        "plt.xticks(rotation=0)\n",
        "plt.show()"
      ],
      "execution_count": null,
      "outputs": [
        {
          "output_type": "display_data",
          "data": {
            "image/png": "[encoded data removed]",
            "text/plain": [
              "<Figure size 864x504 with 1 Axes>"
            ]
          },
          "metadata": {
            "tags": [],
            "needs_background": "light"
          }
        }
      ]
    },
    {
      "cell_type": "code",
      "metadata": {
        "id": "q9lPaSwekB19",
        "outputId": "20fa35bb-b002-49bb-daf6-e6118356225d",
        "colab": {
          "base_uri": "https://localhost:8080/",
          "height": 466
        }
      },
      "source": [
        "sns.countplot(train.Item_Type)\n",
        "plt.xticks(rotation=90)"
      ],
      "execution_count": null,
      "outputs": [
        {
          "output_type": "stream",
          "text": [
            "/usr/local/lib/python3.6/dist-packages/seaborn/_decorators.py:43: FutureWarning: Pass the following variable as a keyword arg: x. From version 0.12, the only valid positional argument will be `data`, and passing other arguments without an explicit keyword will result in an error or misinterpretation.\n",
            "  FutureWarning\n"
          ],
          "name": "stderr"
        },
        {
          "output_type": "execute_result",
          "data": {
            "text/plain": [
              "(array([ 0,  1,  2,  3,  4,  5,  6,  7,  8,  9, 10, 11, 12, 13, 14, 15]),\n",
              " <a list of 16 Text major ticklabel objects>)"
            ]
          },
          "metadata": {
            "tags": []
          },
          "execution_count": 97
        },
        {
          "output_type": "display_data",
          "data": {
            "image/png": "[encoded data removed]",
            "text/plain": [
              "<Figure size 432x288 with 1 Axes>"
            ]
          },
          "metadata": {
            "tags": [],
            "needs_background": "light"
          }
        }
      ]
    },
    {
      "cell_type": "markdown",
      "metadata": {
        "id": "S3KP2ZP405w7"
      },
      "source": [
        "### **EDA**"
      ]
    },
    {
      "cell_type": "code",
      "metadata": {
        "id": "5nmo1q_ANx-1",
        "outputId": "4bc20348-aa7b-4a74-8d61-7ca76222324b",
        "colab": {
          "base_uri": "https://localhost:8080/",
          "height": 34
        }
      },
      "source": [
        "mean = np.mean(train['Item_Weight'])\n",
        "std = np.std(train['Item_Weight'])\n",
        "print(mean,std)"
      ],
      "execution_count": null,
      "outputs": [
        {
          "output_type": "stream",
          "text": [
            "12.857645184136409 4.225875792602069\n"
          ],
          "name": "stdout"
        }
      ]
    },
    {
      "cell_type": "code",
      "metadata": {
        "id": "iJWcUd0tLvNg"
      },
      "source": [
        "train['Item_Weight'] = (train['Item_Weight'] - mean) / std\n",
        "test['Item_Weight'] = (test['Item_Weight'] -  mean)/ std"
      ],
      "execution_count": null,
      "outputs": []
    },
    {
      "cell_type": "code",
      "metadata": {
        "id": "vamBQrhItDA-"
      },
      "source": [
        "train['Item_Fat_Content'] = train['Item_Fat_Content'].map({'Low Fat':0,'Regular':1})\n",
        "test['Item_Fat_Content'] = test['Item_Fat_Content'].map({'Low Fat':0,'Regular':1})"
      ],
      "execution_count": null,
      "outputs": []
    },
    {
      "cell_type": "code",
      "metadata": {
        "id": "hMKzcwbstcmG",
        "outputId": "7de1bb8b-848c-4c41-b34b-d330e28de88f",
        "colab": {
          "base_uri": "https://localhost:8080/",
          "height": 85
        }
      },
      "source": [
        "train.Item_Type.unique()"
      ],
      "execution_count": null,
      "outputs": [
        {
          "output_type": "execute_result",
          "data": {
            "text/plain": [
              "array(['Dairy', 'Soft Drinks', 'Meat', 'Fruits and Vegetables',\n",
              "       'Household', 'Baking Goods', 'Snack Foods', 'Frozen Foods',\n",
              "       'Breakfast', 'Health and Hygiene', 'Hard Drinks', 'Canned',\n",
              "       'Breads', 'Starchy Foods', 'Others', 'Seafood'], dtype=object)"
            ]
          },
          "metadata": {
            "tags": []
          },
          "execution_count": 422
        }
      ]
    },
    {
      "cell_type": "code",
      "metadata": {
        "id": "BxJSoiVFt6Yc",
        "outputId": "71fd506d-4077-493f-94a5-51597aab1780",
        "colab": {
          "base_uri": "https://localhost:8080/",
          "height": 289
        }
      },
      "source": [
        "lst = list(train.Item_Type.unique())\n",
        "lst"
      ],
      "execution_count": null,
      "outputs": [
        {
          "output_type": "execute_result",
          "data": {
            "text/plain": [
              "['Dairy',\n",
              " 'Soft Drinks',\n",
              " 'Meat',\n",
              " 'Fruits and Vegetables',\n",
              " 'Household',\n",
              " 'Baking Goods',\n",
              " 'Snack Foods',\n",
              " 'Frozen Foods',\n",
              " 'Breakfast',\n",
              " 'Health and Hygiene',\n",
              " 'Hard Drinks',\n",
              " 'Canned',\n",
              " 'Breads',\n",
              " 'Starchy Foods',\n",
              " 'Others',\n",
              " 'Seafood']"
            ]
          },
          "metadata": {
            "tags": []
          },
          "execution_count": 104
        }
      ]
    },
    {
      "cell_type": "code",
      "metadata": {
        "id": "wxYvaJ9vwOck"
      },
      "source": [
        "replace = {lst[0]:0, lst[1]:1, lst[2]:2, lst[3]:3, lst[4]:4, lst[5]:5, \n",
        "           lst[6]:6, lst[7]:7, lst[8]:8, lst[9]:9, lst[10]:10, lst[11]:11,\n",
        "           lst[12]:12,lst[13]:13,lst[14]:14, lst[15]:15}\n",
        "\n",
        "train['Item_Type'] = train['Item_Type'].replace(to_replace=replace)\n",
        "test['Item_Type'] = test['Item_Type'].replace(to_replace=replace)"
      ],
      "execution_count": null,
      "outputs": []
    },
    {
      "cell_type": "code",
      "metadata": {
        "id": "8Q0-ylc4zi9H"
      },
      "source": [
        "train['Outlet_Establishment_Year'].unique()"
      ],
      "execution_count": null,
      "outputs": []
    },
    {
      "cell_type": "code",
      "metadata": {
        "id": "ZNKBriSfzusG"
      },
      "source": [
        "le_yr = LabelEncoder()\n",
        "train['Outlet_Establishment_Year'] = le_yr.fit_transform(train['Outlet_Establishment_Year'])\n",
        "test['Outlet_Establishment_Year'] = le_yr.transform(test['Outlet_Establishment_Year'])"
      ],
      "execution_count": null,
      "outputs": []
    },
    {
      "cell_type": "code",
      "metadata": {
        "id": "FaJ6fQzT0X6z"
      },
      "source": [
        "replace = {'Local':0,\n",
        "           'Small':1,\n",
        "           'Medium':2,\n",
        "           'High':3}\n",
        "\n",
        "train['Outlet_Size'] = train['Outlet_Size'].replace(to_replace=replace)\n",
        "test['Outlet_Size'] = test['Outlet_Size'].replace(to_replace=replace)"
      ],
      "execution_count": null,
      "outputs": []
    },
    {
      "cell_type": "code",
      "metadata": {
        "id": "GRvPAKSl03Tl"
      },
      "source": [
        "replace = {'Tier 1': 0,\n",
        "           'Tier 2': 1,\n",
        "           'Tier 3': 2}\n",
        "train['Outlet_Location_Type'] = train['Outlet_Location_Type'].replace(to_replace=replace)\n",
        "test['Outlet_Location_Type'] = test['Outlet_Location_Type'].replace(to_replace=replace)"
      ],
      "execution_count": null,
      "outputs": []
    },
    {
      "cell_type": "code",
      "metadata": {
        "id": "KXy8wsWM1fZX"
      },
      "source": [
        "le_ot = LabelEncoder()\n",
        "train['Outlet_Type'] = le_ot.fit_transform(train['Outlet_Type'])\n",
        "test['Outlet_Type'] = le_ot.transform(test['Outlet_Type'])"
      ],
      "execution_count": null,
      "outputs": []
    },
    {
      "cell_type": "markdown",
      "metadata": {
        "id": "8-qozjHv2zwb"
      },
      "source": [
        "### Model Building\n",
        "\n",
        "##### Train Test Split"
      ]
    },
    {
      "cell_type": "code",
      "metadata": {
        "id": "17usGyo421YS"
      },
      "source": [
        "X = train.drop('Item_Outlet_Sales',axis=1)\n",
        "y = train['Item_Outlet_Sales']\n",
        "from sklearn.model_selection import train_test_split\n",
        "X_train, X_test, y_train, y_test = train_test_split(X,y,test_size=0.2,random_state=42)"
      ],
      "execution_count": null,
      "outputs": []
    },
    {
      "cell_type": "markdown",
      "metadata": {
        "id": "E0kU9O8W3Q2j"
      },
      "source": [
        "### Model 1"
      ]
    },
    {
      "cell_type": "code",
      "metadata": {
        "id": "kmO9cqZL3PYK",
        "outputId": "cab278b6-c0a0-4314-fb44-afa0a2721558",
        "colab": {
          "base_uri": "https://localhost:8080/",
          "height": 34
        }
      },
      "source": [
        "from sklearn.linear_model import Lasso\n",
        "lasso = Lasso(normalize=True)\n",
        "lasso.fit(X_train,y_train)\n",
        "y_preds = lasso.predict(X_test)\n",
        "rmse = mean_squared_error(y_test,y_preds)\n",
        "print(f'RMSE:{rmse}')"
      ],
      "execution_count": null,
      "outputs": [
        {
          "output_type": "stream",
          "text": [
            "RMSE:1345220.3770319868\n"
          ],
          "name": "stdout"
        }
      ]
    },
    {
      "cell_type": "code",
      "metadata": {
        "id": "cb3NKNzMLR8F",
        "outputId": "890332b2-e929-46a5-afc1-9eef844e07bd",
        "colab": {
          "base_uri": "https://localhost:8080/",
          "height": 34
        }
      },
      "source": [
        "from sklearn.linear_model import Ridge\n",
        "ridge = Ridge()\n",
        "ridge.fit(X_train,y_train)\n",
        "y_preds = ridge.predict(X_test)\n",
        "rmse = mean_squared_error(y_test,y_preds)\n",
        "print(f'RMSE:{rmse}')"
      ],
      "execution_count": null,
      "outputs": [
        {
          "output_type": "stream",
          "text": [
            "RMSE:1306341.9567505885\n"
          ],
          "name": "stdout"
        }
      ]
    },
    {
      "cell_type": "code",
      "metadata": {
        "id": "EbywX4gz-Skp",
        "outputId": "f5477bbd-5c98-4273-8983-818ab48dee84",
        "colab": {
          "base_uri": "https://localhost:8080/",
          "height": 34
        }
      },
      "source": [
        "from sklearn.tree import DecisionTreeRegressor\n",
        "dt = DecisionTreeRegressor(max_depth=10, min_samples_leaf=145,min_samples_split=4)\n",
        "dt.fit(X_train,y_train)\n",
        "y_preds = dt.predict(X_test)\n",
        "rmse = mean_squared_error(y_test,y_preds)\n",
        "rmse"
      ],
      "execution_count": null,
      "outputs": [
        {
          "output_type": "execute_result",
          "data": {
            "text/plain": [
              "1069356.1839561106"
            ]
          },
          "metadata": {
            "tags": []
          },
          "execution_count": 445
        }
      ]
    },
    {
      "cell_type": "code",
      "metadata": {
        "id": "PIA197Yl-qFN",
        "outputId": "1d84e367-c22f-44cf-8e64-24be5ca09328",
        "colab": {
          "base_uri": "https://localhost:8080/",
          "height": 34
        }
      },
      "source": [
        "from sklearn.ensemble import RandomForestRegressor\n",
        "rf = RandomForestRegressor(max_depth=20, min_samples_leaf=100)\n",
        "rf.fit(X_train,y_train)\n",
        "y_preds = rf.predict(X_test)\n",
        "rmse = mean_squared_error(y_test,y_preds)\n",
        "rmse"
      ],
      "execution_count": null,
      "outputs": [
        {
          "output_type": "execute_result",
          "data": {
            "text/plain": [
              "1038085.4197439635"
            ]
          },
          "metadata": {
            "tags": []
          },
          "execution_count": 137
        }
      ]
    },
    {
      "cell_type": "code",
      "metadata": {
        "id": "677TGG0y_Yj3",
        "outputId": "c67cc1ef-71c5-46a5-b409-eb5c61a63e02",
        "colab": {
          "base_uri": "https://localhost:8080/",
          "height": 71
        }
      },
      "source": [
        "from xgboost import XGBRegressor\n",
        "xgb = XGBRegressor(n_estimators=1000,learning_rate=0.05)\n",
        "xgb.fit(X_train,y_train)\n",
        "y_preds = xgb.predict(X_test)\n",
        "rmse = mean_squared_error(y_test,y_preds)\n",
        "rmse"
      ],
      "execution_count": null,
      "outputs": [
        {
          "output_type": "stream",
          "text": [
            "[18:57:03] WARNING: /workspace/src/objective/regression_obj.cu:152: reg:linear is now deprecated in favor of reg:squarederror.\n"
          ],
          "name": "stdout"
        },
        {
          "output_type": "execute_result",
          "data": {
            "text/plain": [
              "1160436.5236103623"
            ]
          },
          "metadata": {
            "tags": []
          },
          "execution_count": 360
        }
      ]
    },
    {
      "cell_type": "code",
      "metadata": {
        "id": "jy1zyFyjAIe-",
        "outputId": "0e58a968-5058-4de2-a7c6-57219b8acce5",
        "colab": {
          "base_uri": "https://localhost:8080/",
          "height": 34
        }
      },
      "source": [
        "from sklearn.ensemble import GradientBoostingRegressor\n",
        "\n",
        "params = {'n_estimators': 1000,\n",
        "          'max_depth': 15,\n",
        "          'min_samples_split': 10,\n",
        "          'learning_rate': 0.01,\n",
        "          'loss': 'ls'}\n",
        "\n",
        "xgb = GradientBoostingRegressor(**params)\n",
        "xgb.fit(X_train,y_train)\n",
        "y_preds=xgb.predict(X_test)\n",
        "rmse = mean_squared_error(y_test,y_preds)\n",
        "rmse"
      ],
      "execution_count": null,
      "outputs": [
        {
          "output_type": "execute_result",
          "data": {
            "text/plain": [
              "1327602.4300602635"
            ]
          },
          "metadata": {
            "tags": []
          },
          "execution_count": 115
        }
      ]
    },
    {
      "cell_type": "code",
      "metadata": {
        "id": "_ZX8i3C6MUVb",
        "outputId": "706edc31-24c8-4fa4-d612-de75fb8145e0",
        "colab": {
          "base_uri": "https://localhost:8080/",
          "height": 34
        }
      },
      "source": [
        "from sklearn.ensemble import AdaBoostRegressor\n",
        "reg = AdaBoostRegressor(n_estimators=100,random_state=786)\n",
        "reg.fit(X_train,y_train)\n",
        "y_preds = reg.predict(X_test)\n",
        "rmse = mean_squared_error(y_test,y_preds)\n",
        "rmse"
      ],
      "execution_count": null,
      "outputs": [
        {
          "output_type": "execute_result",
          "data": {
            "text/plain": [
              "1286236.637943757"
            ]
          },
          "metadata": {
            "tags": []
          },
          "execution_count": 492
        }
      ]
    },
    {
      "cell_type": "code",
      "metadata": {
        "id": "YLYxpZaKA1Gx"
      },
      "source": [
        "submission = pd.read_csv('drive/My Drive/Colab Notebooks/BigmartSales/sample_submission.csv')"
      ],
      "execution_count": null,
      "outputs": []
    },
    {
      "cell_type": "code",
      "metadata": {
        "id": "PZIB6QHLBTtr",
        "outputId": "76072a24-9932-4939-e896-14f484207dc2",
        "colab": {
          "base_uri": "https://localhost:8080/",
          "height": 204
        }
      },
      "source": [
        "submission.head()"
      ],
      "execution_count": null,
      "outputs": [
        {
          "output_type": "execute_result",
          "data": {
            "text/html": [
              "<div>\n",
              "<style scoped>\n",
              "    .dataframe tbody tr th:only-of-type {\n",
              "        vertical-align: middle;\n",
              "    }\n",
              "\n",
              "    .dataframe tbody tr th {\n",
              "        vertical-align: top;\n",
              "    }\n",
              "\n",
              "    .dataframe thead th {\n",
              "        text-align: right;\n",
              "    }\n",
              "</style>\n",
              "<table border=\"1\" class=\"dataframe\">\n",
              "  <thead>\n",
              "    <tr style=\"text-align: right;\">\n",
              "      <th></th>\n",
              "      <th>Item_Identifier</th>\n",
              "      <th>Outlet_Identifier</th>\n",
              "      <th>Item_Outlet_Sales</th>\n",
              "    </tr>\n",
              "  </thead>\n",
              "  <tbody>\n",
              "    <tr>\n",
              "      <th>0</th>\n",
              "      <td>FDW58</td>\n",
              "      <td>OUT049</td>\n",
              "      <td>1000</td>\n",
              "    </tr>\n",
              "    <tr>\n",
              "      <th>1</th>\n",
              "      <td>FDW14</td>\n",
              "      <td>OUT017</td>\n",
              "      <td>1000</td>\n",
              "    </tr>\n",
              "    <tr>\n",
              "      <th>2</th>\n",
              "      <td>NCN55</td>\n",
              "      <td>OUT010</td>\n",
              "      <td>1000</td>\n",
              "    </tr>\n",
              "    <tr>\n",
              "      <th>3</th>\n",
              "      <td>FDQ58</td>\n",
              "      <td>OUT017</td>\n",
              "      <td>1000</td>\n",
              "    </tr>\n",
              "    <tr>\n",
              "      <th>4</th>\n",
              "      <td>FDY38</td>\n",
              "      <td>OUT027</td>\n",
              "      <td>1000</td>\n",
              "    </tr>\n",
              "  </tbody>\n",
              "</table>\n",
              "</div>"
            ],
            "text/plain": [
              "  Item_Identifier Outlet_Identifier  Item_Outlet_Sales\n",
              "0           FDW58            OUT049               1000\n",
              "1           FDW14            OUT017               1000\n",
              "2           NCN55            OUT010               1000\n",
              "3           FDQ58            OUT017               1000\n",
              "4           FDY38            OUT027               1000"
            ]
          },
          "metadata": {
            "tags": []
          },
          "execution_count": 266
        }
      ]
    },
    {
      "cell_type": "code",
      "metadata": {
        "id": "7SoJKmEcBWVZ"
      },
      "source": [
        "result = rf.predict(test)\n",
        "\n",
        "submission['Item_Identifier'] = item_identifier\n",
        "submission['Outlet_Identifier'] = outlet_identifier\n",
        "submission['Item_Outlet_Sales'] = result\n",
        "\n",
        "submission.to_csv('submisson11.csv',index=False)"
      ],
      "execution_count": null,
      "outputs": []
    },
    {
      "cell_type": "code",
      "metadata": {
        "id": "z4fxFOtNDZgN",
        "outputId": "500ae64a-06ff-4a7d-d527-0490ee5548a5",
        "colab": {
          "base_uri": "https://localhost:8080/",
          "height": 204
        }
      },
      "source": [
        "numeric_features = train.select_dtypes(include=[np.number])\n",
        "numeric_features.dtypes"
      ],
      "execution_count": null,
      "outputs": [
        {
          "output_type": "execute_result",
          "data": {
            "text/plain": [
              "Item_Weight                  float64\n",
              "Item_Fat_Content               int64\n",
              "Item_Visibility              float64\n",
              "Item_Type                      int64\n",
              "Item_MRP                     float64\n",
              "Outlet_Establishment_Year      int64\n",
              "Outlet_Size                    int64\n",
              "Outlet_Location_Type           int64\n",
              "Outlet_Type                    int64\n",
              "Item_Outlet_Sales            float64\n",
              "dtype: object"
            ]
          },
          "metadata": {
            "tags": []
          },
          "execution_count": 353
        }
      ]
    },
    {
      "cell_type": "code",
      "metadata": {
        "id": "8octWiNyNhbo",
        "outputId": "3cb0e906-b991-4015-e13b-7e32f028517a",
        "colab": {
          "base_uri": "https://localhost:8080/",
          "height": 379
        }
      },
      "source": [
        "corr =numeric_features.corr()\n",
        "corr"
      ],
      "execution_count": null,
      "outputs": [
        {
          "output_type": "execute_result",
          "data": {
            "text/html": [
              "<div>\n",
              "<style scoped>\n",
              "    .dataframe tbody tr th:only-of-type {\n",
              "        vertical-align: middle;\n",
              "    }\n",
              "\n",
              "    .dataframe tbody tr th {\n",
              "        vertical-align: top;\n",
              "    }\n",
              "\n",
              "    .dataframe thead th {\n",
              "        text-align: right;\n",
              "    }\n",
              "</style>\n",
              "<table border=\"1\" class=\"dataframe\">\n",
              "  <thead>\n",
              "    <tr style=\"text-align: right;\">\n",
              "      <th></th>\n",
              "      <th>Item_Weight</th>\n",
              "      <th>Item_Fat_Content</th>\n",
              "      <th>Item_Visibility</th>\n",
              "      <th>Item_Type</th>\n",
              "      <th>Item_MRP</th>\n",
              "      <th>Outlet_Establishment_Year</th>\n",
              "      <th>Outlet_Size</th>\n",
              "      <th>Outlet_Location_Type</th>\n",
              "      <th>Outlet_Type</th>\n",
              "      <th>Item_Outlet_Sales</th>\n",
              "    </tr>\n",
              "  </thead>\n",
              "  <tbody>\n",
              "    <tr>\n",
              "      <th>Item_Weight</th>\n",
              "      <td>1.000000</td>\n",
              "      <td>-0.021157</td>\n",
              "      <td>-0.012049</td>\n",
              "      <td>-0.029771</td>\n",
              "      <td>0.024756</td>\n",
              "      <td>-0.007489</td>\n",
              "      <td>0.015096</td>\n",
              "      <td>0.004088</td>\n",
              "      <td>-0.000566</td>\n",
              "      <td>0.011550</td>\n",
              "    </tr>\n",
              "    <tr>\n",
              "      <th>Item_Fat_Content</th>\n",
              "      <td>-0.021157</td>\n",
              "      <td>1.000000</td>\n",
              "      <td>0.047314</td>\n",
              "      <td>-0.038825</td>\n",
              "      <td>0.006063</td>\n",
              "      <td>0.002447</td>\n",
              "      <td>0.001365</td>\n",
              "      <td>-0.001598</td>\n",
              "      <td>0.002199</td>\n",
              "      <td>0.018719</td>\n",
              "    </tr>\n",
              "    <tr>\n",
              "      <th>Item_Visibility</th>\n",
              "      <td>-0.012049</td>\n",
              "      <td>0.047314</td>\n",
              "      <td>1.000000</td>\n",
              "      <td>-0.015682</td>\n",
              "      <td>-0.001315</td>\n",
              "      <td>-0.082927</td>\n",
              "      <td>-0.087796</td>\n",
              "      <td>-0.028099</td>\n",
              "      <td>-0.173468</td>\n",
              "      <td>-0.128625</td>\n",
              "    </tr>\n",
              "    <tr>\n",
              "      <th>Item_Type</th>\n",
              "      <td>-0.029771</td>\n",
              "      <td>-0.038825</td>\n",
              "      <td>-0.015682</td>\n",
              "      <td>1.000000</td>\n",
              "      <td>-0.028493</td>\n",
              "      <td>0.010864</td>\n",
              "      <td>-0.005333</td>\n",
              "      <td>-0.000052</td>\n",
              "      <td>0.006683</td>\n",
              "      <td>-0.007849</td>\n",
              "    </tr>\n",
              "    <tr>\n",
              "      <th>Item_MRP</th>\n",
              "      <td>0.024756</td>\n",
              "      <td>0.006063</td>\n",
              "      <td>-0.001315</td>\n",
              "      <td>-0.028493</td>\n",
              "      <td>1.000000</td>\n",
              "      <td>0.004162</td>\n",
              "      <td>0.002473</td>\n",
              "      <td>0.000232</td>\n",
              "      <td>-0.001975</td>\n",
              "      <td>0.567574</td>\n",
              "    </tr>\n",
              "    <tr>\n",
              "      <th>Outlet_Establishment_Year</th>\n",
              "      <td>-0.007489</td>\n",
              "      <td>0.002447</td>\n",
              "      <td>-0.082927</td>\n",
              "      <td>0.010864</td>\n",
              "      <td>0.004162</td>\n",
              "      <td>1.000000</td>\n",
              "      <td>-0.360690</td>\n",
              "      <td>0.042005</td>\n",
              "      <td>-0.040040</td>\n",
              "      <td>-0.025525</td>\n",
              "    </tr>\n",
              "    <tr>\n",
              "      <th>Outlet_Size</th>\n",
              "      <td>0.015096</td>\n",
              "      <td>0.001365</td>\n",
              "      <td>-0.087796</td>\n",
              "      <td>-0.005333</td>\n",
              "      <td>0.002473</td>\n",
              "      <td>-0.360690</td>\n",
              "      <td>1.000000</td>\n",
              "      <td>0.290216</td>\n",
              "      <td>0.432062</td>\n",
              "      <td>0.172477</td>\n",
              "    </tr>\n",
              "    <tr>\n",
              "      <th>Outlet_Location_Type</th>\n",
              "      <td>0.004088</td>\n",
              "      <td>-0.001598</td>\n",
              "      <td>-0.028099</td>\n",
              "      <td>-0.000052</td>\n",
              "      <td>0.000232</td>\n",
              "      <td>0.042005</td>\n",
              "      <td>0.290216</td>\n",
              "      <td>1.000000</td>\n",
              "      <td>0.467219</td>\n",
              "      <td>0.089367</td>\n",
              "    </tr>\n",
              "    <tr>\n",
              "      <th>Outlet_Type</th>\n",
              "      <td>-0.000566</td>\n",
              "      <td>0.002199</td>\n",
              "      <td>-0.173468</td>\n",
              "      <td>0.006683</td>\n",
              "      <td>-0.001975</td>\n",
              "      <td>-0.040040</td>\n",
              "      <td>0.432062</td>\n",
              "      <td>0.467219</td>\n",
              "      <td>1.000000</td>\n",
              "      <td>0.401522</td>\n",
              "    </tr>\n",
              "    <tr>\n",
              "      <th>Item_Outlet_Sales</th>\n",
              "      <td>0.011550</td>\n",
              "      <td>0.018719</td>\n",
              "      <td>-0.128625</td>\n",
              "      <td>-0.007849</td>\n",
              "      <td>0.567574</td>\n",
              "      <td>-0.025525</td>\n",
              "      <td>0.172477</td>\n",
              "      <td>0.089367</td>\n",
              "      <td>0.401522</td>\n",
              "      <td>1.000000</td>\n",
              "    </tr>\n",
              "  </tbody>\n",
              "</table>\n",
              "</div>"
            ],
            "text/plain": [
              "                           Item_Weight  ...  Item_Outlet_Sales\n",
              "Item_Weight                   1.000000  ...           0.011550\n",
              "Item_Fat_Content             -0.021157  ...           0.018719\n",
              "Item_Visibility              -0.012049  ...          -0.128625\n",
              "Item_Type                    -0.029771  ...          -0.007849\n",
              "Item_MRP                      0.024756  ...           0.567574\n",
              "Outlet_Establishment_Year    -0.007489  ...          -0.025525\n",
              "Outlet_Size                   0.015096  ...           0.172477\n",
              "Outlet_Location_Type          0.004088  ...           0.089367\n",
              "Outlet_Type                  -0.000566  ...           0.401522\n",
              "Item_Outlet_Sales             0.011550  ...           1.000000\n",
              "\n",
              "[10 rows x 10 columns]"
            ]
          },
          "metadata": {
            "tags": []
          },
          "execution_count": 354
        }
      ]
    },
    {
      "cell_type": "code",
      "metadata": {
        "id": "7PcEnIUPONod",
        "outputId": "b94c7513-c851-46dd-cb1e-9001cbceda28",
        "colab": {
          "base_uri": "https://localhost:8080/",
          "height": 34
        }
      },
      "source": [
        "X_train.shape"
      ],
      "execution_count": null,
      "outputs": [
        {
          "output_type": "execute_result",
          "data": {
            "text/plain": [
              "(6818, 6)"
            ]
          },
          "metadata": {
            "tags": []
          },
          "execution_count": 356
        }
      ]
    },
    {
      "cell_type": "code",
      "metadata": {
        "id": "TSJU4F8KOiOh",
        "outputId": "25725e11-13f6-43e3-8d06-3d6a1417e926",
        "colab": {
          "base_uri": "https://localhost:8080/",
          "height": 34
        }
      },
      "source": [
        "from sklearn.svm import SVR\n",
        "svm = SVR(kernel='linear',C=50)\n",
        "svm.fit(X_train,y_train)\n",
        "y_preds = svm.predict(X_test)\n",
        "rmse = mean_squared_error(y_test,y_preds)\n",
        "rmse"
      ],
      "execution_count": null,
      "outputs": [
        {
          "output_type": "execute_result",
          "data": {
            "text/plain": [
              "1330038.9300085257"
            ]
          },
          "metadata": {
            "tags": []
          },
          "execution_count": 372
        }
      ]
    },
    {
      "cell_type": "markdown",
      "metadata": {
        "id": "lwkGibn0Ri6c"
      },
      "source": [
        "# Stacking"
      ]
    },
    {
      "cell_type": "code",
      "metadata": {
        "id": "b3i6xayDRqAM"
      },
      "source": [
        "from sklearn.linear_model import LinearRegression\n",
        "from sklearn.neighbors import KNeighborsRegressor\n",
        "from sklearn.tree import DecisionTreeRegressor\n",
        "from sklearn.svm import SVR"
      ],
      "execution_count": null,
      "outputs": []
    },
    {
      "cell_type": "code",
      "metadata": {
        "id": "d5S0LZMkTc8X",
        "outputId": "0eb1633d-1074-4bb4-dfdd-3e364f51fd5a",
        "colab": {
          "base_uri": "https://localhost:8080/",
          "height": 34
        }
      },
      "source": [
        "from sklearn.ensemble import StackingRegressor\n",
        "\n",
        "level0 = list()\n",
        "level0.append(('knn', KNeighborsRegressor()))\n",
        "level0.append(('cart', DecisionTreeRegressor()))\n",
        "level0.append(('svm', SVR()))\n",
        "level1 = LinearRegression()\n",
        "\n",
        "model = StackingRegressor(estimators=level0, final_estimator=level1, cv=5)\n",
        "model.fit(X_train,y_train)\n",
        "y_preds = model.predict(X_test)\n",
        "rmse = mean_squared_error(y_test,y_preds)\n",
        "rmse"
      ],
      "execution_count": null,
      "outputs": [
        {
          "output_type": "execute_result",
          "data": {
            "text/plain": [
              "1347079.599833213"
            ]
          },
          "metadata": {
            "tags": []
          },
          "execution_count": 431
        }
      ]
    },
    {
      "cell_type": "code",
      "metadata": {
        "id": "S4EezUX6T-_a",
        "outputId": "b417a138-6e22-46fd-8bc1-c32cfc1f89e1",
        "colab": {
          "base_uri": "https://localhost:8080/",
          "height": 34
        }
      },
      "source": [
        "knn = KNeighborsRegressor()\n",
        "knn.fit(X_train,y_train)\n",
        "y_preds = knn.predict(X_test)\n",
        "rmse = mean_squared_error(y_test,y_preds)\n",
        "rmse"
      ],
      "execution_count": null,
      "outputs": [
        {
          "output_type": "execute_result",
          "data": {
            "text/plain": [
              "1553190.5128534038"
            ]
          },
          "metadata": {
            "tags": []
          },
          "execution_count": 432
        }
      ]
    }
  ]
}